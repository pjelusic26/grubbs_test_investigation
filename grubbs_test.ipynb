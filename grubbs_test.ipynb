{
 "cells": [
  {
   "cell_type": "code",
   "execution_count": 1,
   "metadata": {},
   "outputs": [],
   "source": [
    "import framework_image_attacks as ImgAtt\n",
    "from stego import stego_block"
   ]
  },
  {
   "cell_type": "code",
   "execution_count": 2,
   "metadata": {},
   "outputs": [],
   "source": [
    "# New line\n",
    "nl = \"\\n\"\n",
    "\n",
    "# Define all .tif images in folder\n",
    "img = '/media/zgebac26/digBick/test_set_256_1/img_50.tif'\n",
    "\n",
    "# Magic numbers\n",
    "profile_path = 'profiles/ISOcoated_v2_eci.icc'\n",
    "\n",
    "image_resized_dimension = 256\n",
    "blocks_per_axis = 1\n",
    "message_length = 1\n",
    "permutation_length = 1\n",
    "\n",
    "vector_length = 100\n",
    "frequency_range = 'MH'\n",
    "search_radius = 64"
   ]
  },
  {
   "cell_type": "code",
   "execution_count": 3,
   "metadata": {},
   "outputs": [
    {
     "name": "stdout",
     "output_type": "stream",
     "text": [
      "Created stego object:\n",
      "<stego.stego_block object at 0x7fde76ce2310>\n",
      "Encoder pattern:\n",
      "(100, 100)\n",
      "Encoder message:\n",
      "[0]\n",
      "Encoder permutation:\n",
      "[0]\n"
     ]
    }
   ],
   "source": [
    "# Initializing the class with a seed\n",
    "stego_object = stego_block(5, 15, 25)\n",
    "print(f\"Created stego object:{nl}{stego_object}\")\n",
    "\n",
    "# Generating pattern\n",
    "pattern = stego_object.generate_pattern(vector_length)\n",
    "print(f\"Encoder pattern:{nl}{len(pattern[0]), len(pattern[1])}\")\n",
    "\n",
    "# Generating message\n",
    "message = stego_object.generate_message(message_length)\n",
    "# message = [0, 0, 0, 0, 0, 0, 0, 0, 0, 0, 0, 0, 0, 0, 0, 0]\n",
    "print(f\"Encoder message:{nl}{message}\")\n",
    "\n",
    "# Generating permutation\n",
    "permutation = stego_object.generate_permutation(permutation_length)\n",
    "# permutation = [0, 1, 2, 3, 4, 5, 6, 7, 8, 9, 10, 11, 12, 13, 14, 15]\n",
    "print(f\"Encoder permutation:{nl}{permutation}\")"
   ]
  },
  {
   "cell_type": "code",
   "execution_count": 4,
   "metadata": {},
   "outputs": [],
   "source": [
    "\n",
    "# Read image\n",
    "img = ImgAtt.img_read(img, format = 'numpy')\n",
    "\n",
    "# Resize image\n",
    "img = stego_block.image_resize(img, image_resized_dimension)\n",
    "\n",
    "# Extracting channel\n",
    "channel = stego_block.extract_channel(img)\n",
    "\n",
    "# Dividing image to blocks\n",
    "blocks = stego_block.image_to_blocks(channel, blocks_per_axis)\n",
    "\n",
    "# Ignoring block selection\n",
    "permutation_clean = permutation\n",
    "message_clean = message\n",
    "\n",
    "# Embedding data to blocks\n",
    "marked = stego_object.embed_pattern_to_blocks(\n",
    "    message = message_clean,\n",
    "    permutation = permutation_clean,\n",
    "    image_blocks = blocks,\n",
    "    length = vector_length,\n",
    "    frequency = frequency_range,\n",
    "    img_zero = 'NO'\n",
    ")\n",
    "\n",
    "# Merging blocks\n",
    "blocks = stego_block.image_merge_blocks(marked, blocks_per_axis)\n",
    "\n",
    "# Merging channels\n",
    "merged = stego_block.image_merge_channels(img, blocks)\n",
    "\n",
    "# Applying GCR masking\n",
    "masked = stego_object.gcr_masking(img, merged, profile_path)\n",
    "\n",
    "# Extract channel\n",
    "channel_marked = stego_object.extract_channel(masked)\n",
    "\n",
    "# Extract blocks\n",
    "blocks_marked = stego_object.image_to_blocks(channel_marked, blocks_per_axis)\n",
    "\n",
    "# Ignoring block selection\n",
    "permutation_clean_decoder = permutation"
   ]
  },
  {
   "cell_type": "code",
   "execution_count": 5,
   "metadata": {},
   "outputs": [
    {
     "name": "stdout",
     "output_type": "stream",
     "text": [
      "Grubbs values:\n",
      "[0.18669956 0.22255874 0.20643425 0.15971882 0.18504903 0.19702564\n",
      " 0.19265895 0.24367259 0.16891333 0.19908672 0.20809565 0.16646808\n",
      " 0.18313392 0.17330171 0.19753122 0.21035335 0.16423791 0.16844028\n",
      " 0.18654188 0.18121351 0.20943593 0.15637809 0.15319716 0.16010406\n",
      " 0.19086531 0.20997162 0.20364204 0.16434218 0.17046818 0.17154097\n",
      " 0.17413486 0.44871218 0.45935819 0.37823065 0.16274854 0.16840281\n",
      " 0.18664569 0.22357606 0.21084896 0.19637649 0.19125779 0.1855092\n",
      " 0.19219989 0.17791185 0.18620455 0.19907813 0.1769957  0.1784056\n",
      " 0.19842402 0.17793525 0.20731381 0.19797659 0.22125505 0.22557859\n",
      " 0.19904405 0.22064319 0.19608936 0.1849184  0.18381046 0.17505369\n",
      " 0.1970137  0.19852192 0.20442134 0.19503426]\n",
      "Grubbs result: True\n"
     ]
    }
   ],
   "source": [
    "# Detect data \n",
    "decoded_values, pearson_values, decoded_message, entropy_values, diff_values = stego_object.decode_data_pattern(\n",
    "    permutation = permutation_clean_decoder,\n",
    "    image_blocks = blocks_marked,\n",
    "    length = vector_length,\n",
    "    frequency = frequency_range,\n",
    "    search_radius = search_radius,\n",
    "    alpha = 0.01\n",
    ")"
   ]
  },
  {
   "cell_type": "code",
   "execution_count": 6,
   "metadata": {},
   "outputs": [
    {
     "name": "stdout",
     "output_type": "stream",
     "text": [
      "Grubbs values:\n",
      "[0.18669956 0.22255874 0.20643425 0.15971882 0.18504903 0.19702564\n",
      " 0.19265895 0.24367259 0.16891333 0.19908672 0.20809565 0.16646808\n",
      " 0.18313392 0.17330171 0.19753122 0.21035335 0.16423791 0.16844028\n",
      " 0.18654188 0.18121351 0.20943593 0.15637809 0.15319716 0.16010406\n",
      " 0.19086531 0.20997162 0.20364204 0.16434218 0.17046818 0.17154097\n",
      " 0.17413486 0.44871218 0.45935819 0.37823065 0.16274854 0.16840281\n",
      " 0.18664569 0.22357606 0.21084896 0.19637649 0.19125779 0.1855092\n",
      " 0.19219989 0.17791185 0.18620455 0.19907813 0.1769957  0.1784056\n",
      " 0.19842402 0.17793525 0.20731381 0.19797659 0.22125505 0.22557859\n",
      " 0.19904405 0.22064319 0.19608936 0.1849184  0.18381046 0.17505369\n",
      " 0.1970137  0.19852192 0.20442134 0.19503426]\n",
      "Grubbs result: True\n"
     ]
    }
   ],
   "source": [
    "# Detect data \n",
    "decoded_values, pearson_values, decoded_message, entropy_values, diff_values = stego_object.decode_data_pattern(\n",
    "    permutation = permutation_clean_decoder,\n",
    "    image_blocks = blocks_marked,\n",
    "    length = vector_length,\n",
    "    frequency = frequency_range,\n",
    "    search_radius = search_radius,\n",
    "    alpha = 0.001\n",
    ")"
   ]
  },
  {
   "cell_type": "code",
   "execution_count": 7,
   "metadata": {},
   "outputs": [
    {
     "name": "stdout",
     "output_type": "stream",
     "text": [
      "Grubbs values:\n",
      "[0.18669956 0.22255874 0.20643425 0.15971882 0.18504903 0.19702564\n",
      " 0.19265895 0.24367259 0.16891333 0.19908672 0.20809565 0.16646808\n",
      " 0.18313392 0.17330171 0.19753122 0.21035335 0.16423791 0.16844028\n",
      " 0.18654188 0.18121351 0.20943593 0.15637809 0.15319716 0.16010406\n",
      " 0.19086531 0.20997162 0.20364204 0.16434218 0.17046818 0.17154097\n",
      " 0.17413486 0.44871218 0.45935819 0.37823065 0.16274854 0.16840281\n",
      " 0.18664569 0.22357606 0.21084896 0.19637649 0.19125779 0.1855092\n",
      " 0.19219989 0.17791185 0.18620455 0.19907813 0.1769957  0.1784056\n",
      " 0.19842402 0.17793525 0.20731381 0.19797659 0.22125505 0.22557859\n",
      " 0.19904405 0.22064319 0.19608936 0.1849184  0.18381046 0.17505369\n",
      " 0.1970137  0.19852192 0.20442134 0.19503426]\n",
      "Grubbs result: True\n"
     ]
    }
   ],
   "source": [
    "# Detect data \n",
    "decoded_values, pearson_values, decoded_message, entropy_values, diff_values = stego_object.decode_data_pattern(\n",
    "    permutation = permutation_clean_decoder,\n",
    "    image_blocks = blocks_marked,\n",
    "    length = vector_length,\n",
    "    frequency = frequency_range,\n",
    "    search_radius = search_radius,\n",
    "    alpha = 0.0001\n",
    ")"
   ]
  },
  {
   "cell_type": "code",
   "execution_count": 8,
   "metadata": {},
   "outputs": [
    {
     "name": "stdout",
     "output_type": "stream",
     "text": [
      "Grubbs values:\n",
      "[0.18669956 0.22255874 0.20643425 0.15971882 0.18504903 0.19702564\n",
      " 0.19265895 0.24367259 0.16891333 0.19908672 0.20809565 0.16646808\n",
      " 0.18313392 0.17330171 0.19753122 0.21035335 0.16423791 0.16844028\n",
      " 0.18654188 0.18121351 0.20943593 0.15637809 0.15319716 0.16010406\n",
      " 0.19086531 0.20997162 0.20364204 0.16434218 0.17046818 0.17154097\n",
      " 0.17413486 0.44871218 0.45935819 0.37823065 0.16274854 0.16840281\n",
      " 0.18664569 0.22357606 0.21084896 0.19637649 0.19125779 0.1855092\n",
      " 0.19219989 0.17791185 0.18620455 0.19907813 0.1769957  0.1784056\n",
      " 0.19842402 0.17793525 0.20731381 0.19797659 0.22125505 0.22557859\n",
      " 0.19904405 0.22064319 0.19608936 0.1849184  0.18381046 0.17505369\n",
      " 0.1970137  0.19852192 0.20442134 0.19503426]\n",
      "Grubbs result: True\n"
     ]
    }
   ],
   "source": [
    "# Detect data \n",
    "decoded_values, pearson_values, decoded_message, entropy_values, diff_values = stego_object.decode_data_pattern(\n",
    "    permutation = permutation_clean_decoder,\n",
    "    image_blocks = blocks_marked,\n",
    "    length = vector_length,\n",
    "    frequency = frequency_range,\n",
    "    search_radius = search_radius,\n",
    "    alpha = 0.00001\n",
    ")"
   ]
  },
  {
   "cell_type": "code",
   "execution_count": 9,
   "metadata": {},
   "outputs": [
    {
     "name": "stdout",
     "output_type": "stream",
     "text": [
      "Grubbs values:\n",
      "[0.18669956 0.22255874 0.20643425 0.15971882 0.18504903 0.19702564\n",
      " 0.19265895 0.24367259 0.16891333 0.19908672 0.20809565 0.16646808\n",
      " 0.18313392 0.17330171 0.19753122 0.21035335 0.16423791 0.16844028\n",
      " 0.18654188 0.18121351 0.20943593 0.15637809 0.15319716 0.16010406\n",
      " 0.19086531 0.20997162 0.20364204 0.16434218 0.17046818 0.17154097\n",
      " 0.17413486 0.44871218 0.45935819 0.37823065 0.16274854 0.16840281\n",
      " 0.18664569 0.22357606 0.21084896 0.19637649 0.19125779 0.1855092\n",
      " 0.19219989 0.17791185 0.18620455 0.19907813 0.1769957  0.1784056\n",
      " 0.19842402 0.17793525 0.20731381 0.19797659 0.22125505 0.22557859\n",
      " 0.19904405 0.22064319 0.19608936 0.1849184  0.18381046 0.17505369\n",
      " 0.1970137  0.19852192 0.20442134 0.19503426]\n",
      "Grubbs result: False\n",
      "Grubbs values:\n",
      "[0.2474109  0.22712392 0.17196281 0.22823345 0.20515795 0.22830914\n",
      " 0.23885134 0.20694212 0.182509   0.19916307 0.18383668 0.19958195\n",
      " 0.18970304 0.20033172 0.19394638 0.22940783 0.17129985 0.20825782\n",
      " 0.24048833 0.24016497 0.20930662 0.23434457 0.19827543 0.21621237\n",
      " 0.19705471 0.2208227  0.1990821  0.18062296 0.19220507 0.20650729\n",
      " 0.1986992  0.19457955 0.22421608 0.22431879 0.28514082 0.22578135\n",
      " 0.22704742 0.17722331 0.18328629 0.19057062 0.22411017 0.20852502\n",
      " 0.19270368 0.21583072 0.18453706 0.1971329  0.18538787 0.19035905\n",
      " 0.21109579 0.18950525 0.18728198 0.19210906 0.19290128 0.18392593\n",
      " 0.189634   0.21786589 0.21743347 0.1929183  0.19165974 0.18549541\n",
      " 0.18330021 0.21383949 0.189846   0.21107269]\n",
      "Grubbs result: False\n"
     ]
    }
   ],
   "source": [
    "# Detect data \n",
    "decoded_values, pearson_values, decoded_message, entropy_values, diff_values = stego_object.decode_data_pattern(\n",
    "    permutation = permutation_clean_decoder,\n",
    "    image_blocks = blocks_marked,\n",
    "    length = vector_length,\n",
    "    frequency = frequency_range,\n",
    "    search_radius = search_radius,\n",
    "    alpha = 0.000001\n",
    ")"
   ]
  }
 ],
 "metadata": {
  "kernelspec": {
   "display_name": "Python 3.8.1 ('wmgcr')",
   "language": "python",
   "name": "python3"
  },
  "language_info": {
   "codemirror_mode": {
    "name": "ipython",
    "version": 3
   },
   "file_extension": ".py",
   "mimetype": "text/x-python",
   "name": "python",
   "nbconvert_exporter": "python",
   "pygments_lexer": "ipython3",
   "version": "3.8.1"
  },
  "orig_nbformat": 4,
  "vscode": {
   "interpreter": {
    "hash": "d8b06852a014c0279882fc183bb01c9b16ed2c58059f2e43a33b346855e44c50"
   }
  }
 },
 "nbformat": 4,
 "nbformat_minor": 2
}
