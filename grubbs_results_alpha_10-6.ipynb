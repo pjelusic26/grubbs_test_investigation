{
 "cells": [
  {
   "cell_type": "code",
   "execution_count": 1,
   "metadata": {},
   "outputs": [],
   "source": [
    "import numpy as np\n",
    "import pandas as pd"
   ]
  },
  {
   "cell_type": "code",
   "execution_count": 2,
   "metadata": {},
   "outputs": [],
   "source": [
    "# Read and clean data\n",
    "df = pd.read_csv('2022_04_13_gloss_alpha_000001.csv')\n",
    "df.dropna(axis = 'rows', inplace = True)\n",
    "df.drop(columns = 'Unnamed: 0', inplace = True)"
   ]
  },
  {
   "cell_type": "code",
   "execution_count": 3,
   "metadata": {},
   "outputs": [
    {
     "data": {
      "text/html": [
       "<div>\n",
       "<style scoped>\n",
       "    .dataframe tbody tr th:only-of-type {\n",
       "        vertical-align: middle;\n",
       "    }\n",
       "\n",
       "    .dataframe tbody tr th {\n",
       "        vertical-align: top;\n",
       "    }\n",
       "\n",
       "    .dataframe thead th {\n",
       "        text-align: right;\n",
       "    }\n",
       "</style>\n",
       "<table border=\"1\" class=\"dataframe\">\n",
       "  <thead>\n",
       "    <tr style=\"text-align: right;\">\n",
       "      <th></th>\n",
       "      <th>Watermark</th>\n",
       "      <th>Detection</th>\n",
       "      <th>Pearson Correlation</th>\n",
       "      <th>Lak</th>\n",
       "      <th>Batch Position</th>\n",
       "      <th>Motive</th>\n",
       "    </tr>\n",
       "  </thead>\n",
       "  <tbody>\n",
       "    <tr>\n",
       "      <th>0</th>\n",
       "      <td>wm2</td>\n",
       "      <td>True</td>\n",
       "      <td>0.745202</td>\n",
       "      <td>offset</td>\n",
       "      <td>6</td>\n",
       "      <td>woman</td>\n",
       "    </tr>\n",
       "    <tr>\n",
       "      <th>1</th>\n",
       "      <td>orig</td>\n",
       "      <td>False</td>\n",
       "      <td>0.206725</td>\n",
       "      <td>cisti</td>\n",
       "      <td>1</td>\n",
       "      <td>dark</td>\n",
       "    </tr>\n",
       "    <tr>\n",
       "      <th>2</th>\n",
       "      <td>wm1</td>\n",
       "      <td>True</td>\n",
       "      <td>0.736187</td>\n",
       "      <td>cisti</td>\n",
       "      <td>1</td>\n",
       "      <td>dark</td>\n",
       "    </tr>\n",
       "    <tr>\n",
       "      <th>3</th>\n",
       "      <td>wm2</td>\n",
       "      <td>True</td>\n",
       "      <td>0.705318</td>\n",
       "      <td>cisti</td>\n",
       "      <td>1</td>\n",
       "      <td>dark</td>\n",
       "    </tr>\n",
       "    <tr>\n",
       "      <th>4</th>\n",
       "      <td>wm3</td>\n",
       "      <td>True</td>\n",
       "      <td>0.543153</td>\n",
       "      <td>cisti</td>\n",
       "      <td>1</td>\n",
       "      <td>dark</td>\n",
       "    </tr>\n",
       "  </tbody>\n",
       "</table>\n",
       "</div>"
      ],
      "text/plain": [
       "  Watermark  Detection  Pearson Correlation     Lak Batch Position Motive\n",
       "0       wm2       True             0.745202  offset              6  woman\n",
       "1      orig      False             0.206725   cisti              1   dark\n",
       "2       wm1       True             0.736187   cisti              1   dark\n",
       "3       wm2       True             0.705318   cisti              1   dark\n",
       "4       wm3       True             0.543153   cisti              1   dark"
      ]
     },
     "execution_count": 3,
     "metadata": {},
     "output_type": "execute_result"
    }
   ],
   "source": [
    "# Split data into columns\n",
    "df_values = df['0'].str.split('-', expand = True)\n",
    "\n",
    "# Concat into a single dataframe and rename columns\n",
    "df_final = pd.concat([df, df_values], axis = 1)\n",
    "df_final.columns = ['Full name', 'Grubbs', 'Pearson', 'Paper 1', 'Paper 2', 'Img', 'Motiv', 'Watermark']\n",
    "df_final.drop(columns = ['Full name', 'Img'], inplace = True)\n",
    "\n",
    "# Remove filename extension from dataframe\n",
    "df_scratch = df_final['Watermark'].str.split('.', expand = True)\n",
    "\n",
    "# Finalize columns\n",
    "df_export = pd.concat([df_scratch, df_final], axis = 1)\n",
    "df_export.drop(columns = [1, 'Watermark'], inplace = True)\n",
    "df_export.columns = ['Watermark', 'Detection', 'Pearson Correlation', 'Lak', 'Batch Position', 'Motive']\n",
    "df_export.head()"
   ]
  },
  {
   "cell_type": "code",
   "execution_count": 4,
   "metadata": {},
   "outputs": [],
   "source": [
    "# Split data into unmarked and marked images\n",
    "df_orig = df_export[df_export['Watermark'] == 'orig']\n",
    "df_wm1 = df_export[df_export['Watermark'] == 'wm1']\n",
    "df_wm2 = df_export[df_export['Watermark'] == 'wm2']\n",
    "df_wm3 = df_export[df_export['Watermark'] == 'wm3']\n",
    "df_wm = pd.concat([df_wm1, df_wm2, df_wm3], axis = 0)"
   ]
  },
  {
   "cell_type": "code",
   "execution_count": 5,
   "metadata": {},
   "outputs": [
    {
     "name": "stdout",
     "output_type": "stream",
     "text": [
      "False    239\n",
      "True       1\n",
      "Name: Detection, dtype: int64\n"
     ]
    }
   ],
   "source": [
    "# Show results for unmarked images\n",
    "print(df_orig['Detection'].value_counts())"
   ]
  },
  {
   "cell_type": "code",
   "execution_count": 6,
   "metadata": {},
   "outputs": [
    {
     "name": "stdout",
     "output_type": "stream",
     "text": [
      "True    720\n",
      "Name: Detection, dtype: int64\n"
     ]
    }
   ],
   "source": [
    "# Show results for marked images\n",
    "print(df_wm['Detection'].value_counts())"
   ]
  }
 ],
 "metadata": {
  "kernelspec": {
   "display_name": "Python 3.8.1 ('wmgcr')",
   "language": "python",
   "name": "python3"
  },
  "language_info": {
   "codemirror_mode": {
    "name": "ipython",
    "version": 3
   },
   "file_extension": ".py",
   "mimetype": "text/x-python",
   "name": "python",
   "nbconvert_exporter": "python",
   "pygments_lexer": "ipython3",
   "version": "3.8.1"
  },
  "orig_nbformat": 4,
  "vscode": {
   "interpreter": {
    "hash": "d8b06852a014c0279882fc183bb01c9b16ed2c58059f2e43a33b346855e44c50"
   }
  }
 },
 "nbformat": 4,
 "nbformat_minor": 2
}
